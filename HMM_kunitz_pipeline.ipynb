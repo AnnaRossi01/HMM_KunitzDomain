{
 "cells": [
  {
   "metadata": {},
   "cell_type": "markdown",
   "source": [
    "# Pipeline steps\n",
    "\n",
    "### 1. Training set preparation\n",
    "--------------------------------------------------------------------------\n",
    "__1.1 PDB search__\n",
    "\n",
    "Extract all the rappresentative proteins with the Kunitz Domain form `PDB`\n",
    "\n",
    "- Use advanced search:\n",
    "    - Data Collection Resolution <= 3.5\n",
    "    - Identifier - Pfam Protein Family: PF00014\n",
    "    - Polymer Entity Sequence Length <= 80 and >= 45\n",
    "\n",
    "- Total of 160 protein\n"
   ],
   "id": "56d456f046809ef9"
  },
  {
   "metadata": {},
   "cell_type": "code",
   "outputs": [],
   "execution_count": null,
   "source": [
    "# Change the .csv file in a .fasta file\n",
    "cat  rcsb_pdb_custom_report_20250505053057.csv | tr -d '\"' \\\n",
    "| awk -F ',' '{if (length($2)>0) {name=$2}; print name ,$3,$4,$5}' \\\n",
    "| grep PF00014 \\\n",
    "| awk '{print \">\"$1\"_\"$3; print $2}' > pdb_kunitz_customreported.fasta"
   ],
   "id": "2c95bcfd23aa4445"
  },
  {
   "metadata": {},
   "cell_type": "markdown",
   "source": [
    "__2.2 Cluster identical sequences__\n",
    "- `cd-hit` for clusterize and filter the redundancy"
   ],
   "id": "43646042c33da97e"
  },
  {
   "metadata": {
    "jupyter": {
     "is_executing": true
    }
   },
   "cell_type": "code",
   "source": [
    "# Keeping only one representative per cluster with ≥90% identity (-c 0.9)\n",
    "cd-hit -i pdb_kunitz_customreported.fasta -o pdb_kunitz_customreported_nr.fasta -c 0.9\n",
    "\n",
    "# I obtained 25 clusters and from this I removed the protein 20DY_E because too long\n",
    "awk '/^>2ODY_E/ {getline; next} {print}' pdb_kunitz_customreported_nr.fasta > pdb_kunitz_customreported_filtered.fasta\n",
    "\n",
    "# From the clstr file obtained from cd-hit generate a file with all the IDs\n",
    "grep -v \"^>\" pdb_kunitz_customreported_filtered.clstr | sed -n 's/.*>\\(.*\\)\\.\\.\\..*/\\1/p' > pdb_kunitz_rp.ids.txt\n",
    "\n",
    "# Extract all the fasta file of the corresponding clustered IDs using the customreported file as reference\n",
    "for i in $(cat pdb_kunitz_rp.ids.txt); do\n",
    "  grep -A 1 \"^>$i\" pdb_kunitz_customreported_filtered.fasta | head -n 2 >> pdb_kunitz_rp.fasta\n",
    "done\n",
    "\n",
    "# Extract sequence IDs, remove '>', replace '_' with ':', and save to file\n",
    "grep \">\" pdb_kunitz_rp.fasta | tr -d \">\" | tr \"_\" \":\" > tmp_pdb_efold_ids.txt"
   ],
   "id": "c4e87145ea6458cf",
   "outputs": [],
   "execution_count": null
  },
  {
   "metadata": {},
   "cell_type": "markdown",
   "source": [
    "FILE :\n",
    "- `pdb_kunitz_customreported_filtered.fasta`\n",
    "- `tmp_pdb_efold_ids.txt`"
   ],
   "id": "4ddc6dccd0ae8200"
  },
  {
   "metadata": {},
   "cell_type": "markdown",
   "source": [
    "### 2. Perform the MSA with PDBefold\n",
    "--------------------------------------------------------------------------\n",
    "A multiple sequence alignment (MSA) is performed manually using `PDBefold`. The MSA is a structure alignment and is used for the HMM training.\n",
    "In the PDBefold output I remove a protein because of a RDSM grater than 1 Angstrom.\n",
    "\n",
    "Download the file and format it to make it compatible with the HMM model\n",
    "\n"
   ],
   "id": "e3e426fcfcbc83b4"
  },
  {
   "metadata": {},
   "cell_type": "code",
   "outputs": [],
   "execution_count": null,
   "source": [
    "# It converts all sequence characters to uppercase and ensures that the sequences are printed without any extra spaces or newlines, except for the header lines (starting with '>').\n",
    "awk '{\n",
    "  if (substr($1, 1, 1) == \">\") {\n",
    "    print \"\\n\" toupper($1)\n",
    "  } else {\n",
    "    printf \"%s\", toupper($1)\n",
    "  }\n",
    "}' pdb_kunitz_rp.ali > pdb_kunitz_rp_formatted.ali\n"
   ],
   "id": "fbddb97af0d3d9b2"
  },
  {
   "metadata": {},
   "cell_type": "markdown",
   "source": "FILE : `pdb_kunitz_rp_formatted.ali`",
   "id": "a4f5e18e550b8dca"
  },
  {
   "metadata": {},
   "cell_type": "markdown",
   "source": [
    "### 3. HMM model construction\n",
    "--------------------------------------------------------------------------\n",
    "\n",
    "Using `hmmbuild` function of `HMMER (v3.3.2)` to train the HMM model for detecting the Kunitz Domain"
   ],
   "id": "ec0ce7c2be0a828e"
  },
  {
   "metadata": {
    "jupyter": {
     "is_executing": true
    }
   },
   "cell_type": "code",
   "source": [
    " # INPUT: pdb_kunitz_rp_formatted-ali\n",
    " # OUTPUT: structural_model.hmm\n",
    " hmmbuild structural_model.hmm pdb_kunitz_rp_formatted.ali"
   ],
   "id": "abb7900e5aa0749a",
   "outputs": [],
   "execution_count": null
  },
  {
   "metadata": {},
   "cell_type": "markdown",
   "source": [
    "The constructed HMM contains 58 match states (on 84 positions) derived from conserved positions in the multiple sequence alignment.\n",
    "\n",
    "FILE:\n",
    "- `structural_model.hmm` (this is the obtained model)\n",
    "- Sequence Logo images:\n",
    "  - SL_HMM.png (obtained from `structural_model.hmm`)\n",
    "  - SL_Ali.png (obtained form `pdb_kunitz_rp_formatted.ali`)\n",
    "\n",
    "**In sequence logo there are 4 important conserved Cysteine fundamental for the Kunitz Domain structure**"
   ],
   "id": "aa810b607cd58514"
  },
  {
   "metadata": {},
   "cell_type": "markdown",
   "source": [
    "### 4. Test sets preparation\n",
    "--------------------------------------------------------------------------\n",
    "__4.1 Positive set (with Kunitz Domain)__\n",
    "\n",
    "1. First I manually obtain from Uniprot a file with all the proteins with Kunitz Domain, using the advance search:\n",
    "  - domain: Kunitz\n",
    "  - Pfam: PF00014\n",
    "\n",
    "    I obtain 397 protein\n",
    "\n",
    "    FILE: `all_kunitz.fasta` --> 397 proteins\n",
    "\n",
    "2. Positive test sets was filtered for redundancy using `BLAST`, removing sequences with >=95% identity and >=50% coverage to each other or to training sequences, to ensure evaluation on non-overlapping data.\n",
    "\n"
   ],
   "id": "cc3726471f9ffe3c"
  },
  {
   "metadata": {},
   "cell_type": "code",
   "outputs": [],
   "execution_count": null,
   "source": [
    "# BLAST database creation\n",
    "makeblastdb -in all_kunitz.fasta -dbtype prot -out all_kunitz.fasta\n",
    "\n",
    "# Apply BLAST\n",
    "blastp -query pdb_kunitz_rp.fasta -db all_kunitz.fasta -out pdb_kunitz_nr_23.blast -outfm 7\n",
    "\n",
    "# Extract the Uniprot IDs with >=95% identity and >=50% coverage\n",
    "grep -v \"^#\" pdb_kunitz_nr_23.blast \\\n",
    "  | awk '{ if ($3 >= 95 && $4 >= 50) print $2 }' \\\n",
    "  | sort -u \\\n",
    "  | cut -d \"|\" -f2 \\\n",
    "  > to_remove.ids\n",
    "\n",
    "# Obtain all the IDs from the all_kunitz.fasta and compare them to the IDs to remove to erase them form the positive test set\n",
    "grep \">\" all_kunitz.fasta | cut -d \"|\" -f 2 > all_kunitz.id\n",
    "comm -23 <(sort all_kunitz.id) <(sort to_remove.ids) > to_keep.ids"
   ],
   "id": "58a3beb1722ad028"
  },
  {
   "metadata": {},
   "cell_type": "markdown",
   "source": [
    "FILE:\n",
    "- `pdb_kunitz_nr_23.blast`\n",
    "- `to_remove.ids` --> 29 protein to remove\n",
    "- `to_keep.ids` --> 368 protein"
   ],
   "id": "fd2c038773f0832b"
  },
  {
   "metadata": {},
   "cell_type": "markdown",
   "source": "  3. Pull out from a fasta file only the sequences of the IDs list using a python script (`get_seq.py`)",
   "id": "ab49e374272ed231"
  },
  {
   "metadata": {},
   "cell_type": "code",
   "outputs": [],
   "execution_count": null,
   "source": [
    "# IDs list --> to_keep.ids\n",
    "# Fasta file --> all_kunitz.fasta\n",
    "# Output file --> ok_kunitz.fasta\n",
    "python3 get_seq.py to_keep.ids all_kunitz.fasta ok_kunitz.fasta"
   ],
   "id": "353d0b78c2362afc"
  },
  {
   "metadata": {},
   "cell_type": "markdown",
   "source": "FILE: `ok_kunitz.fasta ` (this is the positive set)\n",
   "id": "146959ffaae1c71c"
  },
  {
   "metadata": {},
   "cell_type": "markdown",
   "source": [
    "__4.2 Negative test set (without Kunitz Domain)__\n",
    "\n",
    "1. I select all the non Kunitz Domanin's protein from all the UniProtKB Reviewed (Swiss-Prot) available online form this link: https://www.uniprot.org/help/downloads"
   ],
   "id": "6c5df90f86cbdf0d"
  },
  {
   "metadata": {},
   "cell_type": "code",
   "outputs": [],
   "execution_count": null,
   "source": [
    "grep \">\" uniprot_sprot.fasta | cut -d \"|\" -f2 > sp.id\n",
    "comm -23 <(sort sp.id) <(sort all_kunitz.id) > sp_negs.ids"
   ],
   "id": "2fa9879a4d6b9966"
  },
  {
   "metadata": {},
   "cell_type": "markdown",
   "source": "2. Pull out from a fasta file only the sequences of the IDs list using a python script (`get_seq.py`)",
   "id": "e14c27b5f73ad084"
  },
  {
   "metadata": {},
   "cell_type": "code",
   "outputs": [],
   "execution_count": null,
   "source": "python3 get_seq.py sp_negs.ids uniprot_sprot.fasta sp_negs.fasta",
   "id": "e52f1bfd4f7eff3b"
  },
  {
   "metadata": {},
   "cell_type": "markdown",
   "source": "FILE: `sp_negs.fasta` (this is the negative set)",
   "id": "4e657d7a7184292"
  },
  {
   "metadata": {},
   "cell_type": "markdown",
   "source": [
    "__4.3 Generate random subsets of positive and negative sequences__\n",
    "\n",
    "1. Randomize the IDs file (Both positive and negative) and divide both in half"
   ],
   "id": "e1dca00098b9f19e"
  },
  {
   "metadata": {},
   "cell_type": "code",
   "outputs": [],
   "execution_count": null,
   "source": [
    "# Randomize\n",
    "sort -R sp_negs.ids > random_sp_negs.ids\n",
    "sort -R to_keep.ids > random_ok_kunitz.ids\n",
    "\n",
    "# Cut in half\n",
    "head -n 183 random_ok_kunitz.ids > pos_1.ids\n",
    "tail -n 183 random_ok_kunitz.ids > pos_2.ids\n",
    "\n",
    "head -n 286417 random_sp_negs.ids > neg_1.ids\n",
    "tail -n 286417 random_sp_negs.ids > neg_2.ids"
   ],
   "id": "b0ea4113eb223fbf"
  },
  {
   "metadata": {},
   "cell_type": "markdown",
   "source": "2. Pull out from all the UniProtKB Reviewed (Swiss-Prot) only the sequences of the IDs list using a python script (`get_seq.py`)",
   "id": "21cd78a57da74ce9"
  },
  {
   "metadata": {},
   "cell_type": "code",
   "outputs": [],
   "execution_count": null,
   "source": [
    "python3 get_seq.py pos_1.ids uniprot_sprot.fasta  pos_1.fasta\n",
    "python3 get_seq.py pos_2.ids uniprot_sprot.fasta  pos_2.fasta\n",
    "python3 get_seq.py neg_1.ids uniprot_sprot.fasta  neg_1.fasta\n",
    "python3 get_seq.py neg_2.ids uniprot_sprot.fasta  neg_2.fasta"
   ],
   "id": "d8b48a00b213a2da"
  },
  {
   "metadata": {},
   "cell_type": "markdown",
   "source": [
    "### 5. Test the model\n",
    "-------------------------------------------------------------------------\n",
    "Now I test the model with `hmmsearch`, an HMMER program for search sequences that correspond to the HMM model\n",
    "- `--max` = turns off all the heuristics for cutting off distantly related proteins\n",
    "- `-tblout` = returns the output in tabular form\n",
    "- `-Z` = for normalizing the e-value output\n",
    "\n"
   ],
   "id": "1f97d8975812892e"
  },
  {
   "metadata": {},
   "cell_type": "code",
   "outputs": [],
   "execution_count": null,
   "source": [
    "hmmsearch -Z 1000 --max --tblout neg_2.out structural_model.hmm neg_2.fasta\n",
    "hmmsearch -Z 1000 --max --tblout neg_1.out structural_model.hmm neg_1.fasta\n",
    "hmmsearch -Z 1000 --max --tblout pos_2.out structural_model.hmm pos_2.fasta\n",
    "hmmsearch -Z 1000 --max --tblout pos_1.out structural_model.hmm pos_1.fasta"
   ],
   "id": "8ea1591afb4b8a08"
  },
  {
   "metadata": {},
   "cell_type": "markdown",
   "source": [
    "The next step is to evaluate the performance of the model computing a confusion matrix but first I have to transforme the `.out` file obtained with `hmmsearch` in `.class` file compatible with the python script.\n",
    "\n",
    "The following commands process the tabular output (`.out`) files generated by `hmmsearch`, extracting relevant information to evaluate the performance of the HMM model.\n",
    "\n",
    "- `grep -v \"^#\"` removes comment lines from the output (those starting with `#`).\n",
    "- `awk`:\n",
    "  - Uses `split($1,a,\"|\")` to extract the sequence ID (second field in the pipe-separated name).\n",
    "  - Assigns a **label**: `1` for positive sets, `0` for negative sets.\n",
    "  - Extracts the **score** and **e-value** (fields `$5` and `$8`, respectively).\n",
    "- The result is a tab-delimited `.class` file with four columns:\n",
    "  - `Sequence ID`, `Label`, `Score`, `E-value`"
   ],
   "id": "55e14736276e816"
  },
  {
   "metadata": {},
   "cell_type": "code",
   "outputs": [],
   "execution_count": null,
   "source": [
    "grep -v \"^#\" pos_1.out | awk '{split($1,a,\"|\"); print a[2]\"\\t1\\t\"$5\"\\t\"$8}' > pos_1.class\n",
    "grep -v \"^#\" pos_2.out | awk '{split($1,a,\"|\"); print a[2]\"\\t1\\t\"$5\"\\t\"$8}' > pos_2.class\n",
    "grep -v \"^#\" neg_1.out | awk '{split($1,a,\"|\"); print a[2]\"\\t0\\t\"$5\"\\t\"$8}' > neg_1.class\n",
    "grep -v \"^#\" neg_2.out | awk '{split($1,a,\"|\"); print a[2]\"\\t0\\t\"$5\"\\t\"$8}' > neg_2.class"
   ],
   "id": "134b714499154565"
  },
  {
   "metadata": {},
   "cell_type": "markdown",
   "source": [
    "__Recovering false negatives excluded by HMMER's default threshold__\n",
    "\n",
    "By default, HMMER ignores all hits with an E-value greater than 10, considering them non-significant.\n",
    "However, for the purpose of building a complete evaluation set (including true negatives and potential false negatives), we manually added back sequences that were not reported by `hmmsearch` due to this threshold.\n",
    "\n",
    "To do this, we created a set of protein sequences assumed to be **non-matching (negatives)** and manually assigned them an **E-value of 10.0**.\n",
    "This ensures they are clearly **above the detection threshold** and can be included in our evaluation as sequences that should **not** match the model.\n",
    "\n",
    "This allows us to:\n",
    "- Simulate how the model behaves when encountering truly unrelated sequences.\n",
    "- Include potential **false negatives** that were missed due to the E-value filter.\n",
    "- Build a balanced `.class` file with both predicted positives and negatives.\n",
    "\n",
    "These artificially added entries help improve the completeness and fairness of the evaluation using the confusion matrix.\n",
    "\n"
   ],
   "id": "9156a4484dbcb232"
  },
  {
   "metadata": {},
   "cell_type": "code",
   "outputs": [],
   "execution_count": null,
   "source": [
    "comm -23 <(sort neg_1.ids) <(cut -f1 neg_1.class | sort) | awk '{print $1\"\\t0\\t10.0\\t10.0\"}' >> neg_1_hits.class\n",
    "comm -23 <(sort neg_2.ids) <(cut -f1 neg_2.class | sort) | awk '{print $1\"\\t0\\t10.0\\t10.0\"}' >> neg_2_hits.class"
   ],
   "id": "6f8cd97aa5e67e13"
  },
  {
   "metadata": {},
   "cell_type": "markdown",
   "source": "Merge the set of positive (`pos_1.class`, `pos_2.class`) with the two recovered negative sets (`neg_1_hits.class`, `neg_2_hits.class`).",
   "id": "abb4d29aafd3f2f4"
  },
  {
   "metadata": {},
   "cell_type": "code",
   "outputs": [],
   "execution_count": null,
   "source": [
    "cat pos_1.class neg_1_hits.class > set_1.class\n",
    "cat pos_2.class neg_2_hits.class > set_2.class"
   ],
   "id": "723e580de4d59ab1"
  },
  {
   "metadata": {},
   "cell_type": "markdown",
   "source": [
    "FILE:\n",
    "- `set_1.class`\n",
    "- `set_2.class`"
   ],
   "id": "7a303ef10a772549"
  },
  {
   "metadata": {},
   "cell_type": "markdown",
   "source": [
    "### 6. 2-Fold Cross-Validation Strategy\n",
    "------------------------\n",
    "\n",
    "To evaluate the performance of the HMM-based classifier and select an optimal E-value threshold, I apply a 2-fold cross-validation.\n",
    "\n",
    "1. **Training on Set 1, Testing on Set 2**\n",
    "   - Apply a range of E-value thresholds on Set 1.\n",
    "   - For each threshold, compute the confusion matrix (TP, FP, TN, FN) and calculate evaluation metrics such as:\n",
    "     - Accuracy\n",
    "     - Recall\n",
    "     - Matthews Correlation Coefficient (MCC)\n",
    "   - Select the E-value threshold that maximizes MCC on Set 1.\n",
    "   - This threshold is then applied to classify Set 2.\n",
    "   - The resulting performance on Set 2 is recorded.\n",
    "\n",
    "3. **Training on Set 2, Testing on Set 1**\n",
    "   - The same process is repeated in reverse:\n",
    "     - Find the best threshold on Set 2\n",
    "     - Apply it to classify Set 1\n",
    "     - Evaluate performance on Set 1\n",
    "\n",
    "4. **Global Assessment**\n",
    "   - Metrics from both folds are combined to give a more robust and unbiased estimate of the model's performance.\n",
    "\n",
    "This procedure ensures that the threshold selection is unbiased and not overfitted to a specific subset of the data."
   ],
   "id": "b1a2555bb9f70235"
  },
  {
   "metadata": {},
   "cell_type": "code",
   "outputs": [],
   "execution_count": null,
   "source": "python3 script_python/performance_crossvalidation.py set_1.class set_2.class > hmm_result.txt",
   "id": "9da59ccfad95affd"
  },
  {
   "metadata": {},
   "cell_type": "markdown",
   "source": "Detailed results on the file `hmm_result.txt`",
   "id": "6a844b817731055"
  },
  {
   "metadata": {},
   "cell_type": "markdown",
   "source": [
    "### 7. E-value Threshold Selection for Error Analysis\n",
    "----------\n",
    "\n",
    "To evaluate false positives and false negatives, we applied a classification threshold on the E-value scores produced by HMMER.\n",
    "\n",
    "Multiple E-value thresholds were tested during the model evaluation phase to identify the one that maximized classification performance. This was done using Matthews Correlation Coefficient (MCC) as the objective metric during 2-fold cross-validation.\n",
    "\n",
    "- **Optimal threshold for Set 1**: 1e-3\n",
    "- **Optimal threshold for Set 2**: 1e-2\n",
    "\n",
    "Based on these results, we selected **1e-3** as a representative and conservative threshold for downstream analysis of classification errors (false positives and false negatives).\n",
    "\n",
    "This threshold was then applied to `set_1.class and set_2.class` files to extract:\n",
    "- **False negatives**: true Kunitz proteins (label = 1) with E-value ≥ 1e-3.\n",
    "- **False positives**: non-Kunitz proteins (label = 0) with E-value < 1e-3.\n"
   ],
   "id": "524462df679e6234"
  },
  {
   "metadata": {},
   "cell_type": "code",
   "outputs": [],
   "execution_count": null,
   "source": [
    "# False Negative\n",
    "awk -v t=1e-5 '$2 == 1 && $4 >= t' set_1.class\n",
    "awk -v t=1e-5 '$2 == 1 && $4 >= t' set_2.class\n",
    "\n",
    "# False Positive\n",
    "awk -v t=1e-5 '$2 == 0 && $4 <  t' set_1.class\n",
    "awk -v t=1e-5 '$2 == 0 && $4 <  t' set_2.class"
   ],
   "id": "57bdb4e191cadfca"
  },
  {
   "metadata": {},
   "cell_type": "markdown",
   "source": [
    "### Example of classification results (label = 1)\n",
    "\n",
    "| Sequence ID | Label | Score     | E-value   |\n",
    "|-------------|--------|-----------|------------|\n",
    "| Q8WPG5      | 1      | 0.00025   | 0.002      |\n",
    "| D3GGZ8      | 1      | 0.0096    | 0.0096     |\n",
    "\n",
    "→ Proteins with E-value **greater than 1e-3** are classified as **negative** by the model.\n",
    "\n",
    "**Interpretation**:\n",
    "- Q8WPG5 and D3GGZ8 are misclassified as negatives (**false negatives**) despite being labeled as positive\n"
   ],
   "id": "5040795dbca83de4"
  },
  {
   "metadata": {},
   "cell_type": "code",
   "outputs": [],
   "execution_count": null,
   "source": "",
   "id": "eb85686ff7c9262c"
  }
 ],
 "metadata": {
  "kernelspec": {
   "display_name": "Python 3",
   "language": "python",
   "name": "python3"
  },
  "language_info": {
   "codemirror_mode": {
    "name": "ipython",
    "version": 2
   },
   "file_extension": ".py",
   "mimetype": "text/x-python",
   "name": "python",
   "nbconvert_exporter": "python",
   "pygments_lexer": "ipython2",
   "version": "2.7.6"
  }
 },
 "nbformat": 4,
 "nbformat_minor": 5
}
